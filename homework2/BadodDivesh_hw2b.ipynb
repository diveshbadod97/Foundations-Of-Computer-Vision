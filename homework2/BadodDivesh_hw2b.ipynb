{
 "cells": [
  {
   "cell_type": "markdown",
   "metadata": {},
   "source": [
    "# JUPYTER NOTEBOOK FOR HOMEWORK 2 - question 2\n",
    "Using logistic regression classifier to identify faces with happy or sad expressions"
   ]
  },
  {
   "cell_type": "code",
   "execution_count": 15,
   "metadata": {},
   "outputs": [],
   "source": [
    "import numpy as np\n",
    "import matplotlib.pyplot as plt\n",
    "from sklearn.utils import shuffle\n",
    "from helper import y2indicator, getBinaryfer13Data, sigmoid, sigmoid_cost, error_rate, init_weight_and_bias, \\\n",
    "                    init_weight_and_bias_NN, ReLU, softmax"
   ]
  },
  {
   "cell_type": "markdown",
   "metadata": {},
   "source": [
    "# The Logistic regressor class"
   ]
  },
  {
   "cell_type": "code",
   "execution_count": 18,
   "metadata": {},
   "outputs": [],
   "source": [
    "\n",
    "#Implement a logistic regression class to read in vectorized 48 x 48 images;\n",
    "#  so that the dimension of the input is 2304.\n",
    "#  The class includes function train (weight learning), forward (forward activations), \n",
    "#  predict (using current weight to make predictions) and score (or accuracy based on targets and predictions)\n",
    "class LRClass(object):\n",
    "    def __init__(self):\n",
    "        self.W = None\n",
    "        self.b = 0\n",
    "\n",
    "    def train(self, X, Y, step_size=10e-7, epochs=1000):\n",
    "        # Validation data set extracted from the training data\n",
    "        X, Y = shuffle(X, Y)\n",
    "        Xvalid, Yvalid = X[-1000:], Y[-1000:]\n",
    "        X, Y = X[:-1000], Y[:-1000]\n",
    "        N, D = X.shape\n",
    "        \n",
    "\n",
    "        #(i) Initialize the weights W to small random numbers (variance - zero); \n",
    "        #       also initialize the bias b to zero\n",
    "        self.W, self.b = init_weight_and_bias(D, 1)\n",
    "        regularization = 0.1\n",
    "\n",
    "        #For the given number of epochs selected, learn the weights \n",
    "        train_costs = []\n",
    "        valid_costs = []\n",
    "        best_validation_error = 1\n",
    "        \n",
    "        #(ii) Create a loop over the number of epochs specified. \n",
    "        for i in range(epochs):\n",
    "                #(iii) Call the forward funcion to calculate P(Y|X)\n",
    "                A = self.forward(X)\n",
    "                #(iv) Next, learn the weights via back-propagation, by performing \n",
    "                #   gradient descent using equations (1) and (2) from the HW text\n",
    "                #print(Y.shape)\n",
    "                self.W -= step_size*(np.dot(X.T, (A - Y)) + (regularization*self.W))\n",
    "                self.b -= step_size*(sum(A - Y))\n",
    "                #(v) Using both the training and validation data, compute P(Y|X) using the \n",
    "                #       forward algo. Compute the sigmoid costs and append to array costs\n",
    "                #       Check to set best_validation_error\n",
    "                A_valid = self.forward(Xvalid)\n",
    "                train_loss = (sigmoid_cost(Y, A)/N) + ((regularization/(2*N))*np.sum(np.dot(self.W.T, self.W)))\n",
    "                valid_loss = (sigmoid_cost(Yvalid, A_valid)/len(Yvalid)) + ((regularization/(2*len(Yvalid)))*np.sum(np.dot(self.W.T, self.W)))\n",
    "                train_costs.append(train_loss)\n",
    "                valid_costs.append(valid_loss)\n",
    "                #error = error_rate(np.round(A_valid),Yvalid)\n",
    "                if valid_loss < best_validation_error:\n",
    "                    best_validation_error = valid_loss\n",
    "        #(vi) Print your best validation error here\n",
    "        print(\"best_validation_error:\", best_validation_error)\n",
    "        \n",
    "        #(vii) Display the graph of the validation cost in your final report\n",
    "        plt.plot(list(range(epochs)), train_costs, label = \"train loss\")\n",
    "        plt.plot(list(range(epochs)), valid_costs, label = \"valid loss\")\n",
    "        plt.xlabel(\"Epochs\")\n",
    "        plt.ylabel(\"Loss\")\n",
    "        plt.legend(loc = \"upper right\")\n",
    "        plt.show()\n",
    "    \n",
    "    # Implement the forward algorithm\n",
    "    def forward(self, X):\n",
    "        return sigmoid(np.dot(X, self.W) + self.b)\n",
    "    \n",
    "    # Implement the prediction algorithm, calling forward\n",
    "    def predict(self, X):\n",
    "        return np.round(self.forward(X))\n",
    "        \n",
    "    \n",
    "    # Implement a method to compute accuracy or classification rate\n",
    "    def score(self, X, Y):\n",
    "        predict = self.predict(X)\n",
    "        return np.mean(predict == Y)"
   ]
  },
  {
   "cell_type": "code",
   "execution_count": 19,
   "metadata": {},
   "outputs": [
    {
     "name": "stdout",
     "output_type": "stream",
     "text": [
      "best_validation_error: 0.6099523058101498\n"
     ]
    },
    {
     "data": {
      "image/png": "[encoded data removed]",
      "text/plain": [
       "<Figure size 432x288 with 1 Axes>"
      ]
     },
     "metadata": {
      "needs_background": "light"
     },
     "output_type": "display_data"
    },
    {
     "name": "stdout",
     "output_type": "stream",
     "text": [
      "Accuracy of test set is:  0.7076666666666667\n"
     ]
    }
   ],
   "source": [
    "#Call your logistic regression class and train your object\n",
    "X, Y = getBinaryfer13Data('fer3and4train.csv') \n",
    "lrObj = LRClass()\n",
    "lrObj.train(X, Y, epochs = 1000)\n",
    "\n",
    "#(viii) After successfully training, apply the learned model on the test dataset\n",
    "testX, testY = getBinaryfer13Data('fer3and4test.csv')\n",
    "print(\"Accuracy of test set is: \", lrObj.score(testX, testY))\n"
   ]
  },
  {
   "cell_type": "code",
   "execution_count": null,
   "metadata": {},
   "outputs": [],
   "source": []
  }
 ],
 "metadata": {
  "kernelspec": {
   "display_name": "Python 3",
   "language": "python",
   "name": "python3"
  },
  "language_info": {
   "codemirror_mode": {
    "name": "ipython",
    "version": 3
   },
   "file_extension": ".py",
   "mimetype": "text/x-python",
   "name": "python",
   "nbconvert_exporter": "python",
   "pygments_lexer": "ipython3",
   "version": "3.7.6"
  }
 },
 "nbformat": 4,
 "nbformat_minor": 2
}
